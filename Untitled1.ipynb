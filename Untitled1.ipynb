{
  "nbformat": 4,
  "nbformat_minor": 0,
  "metadata": {
    "colab": {
      "provenance": [],
      "toc_visible": true
    },
    "kernelspec": {
      "name": "python3",
      "display_name": "Python 3"
    },
    "language_info": {
      "name": "python"
    }
  },
  "cells": [
    {
      "cell_type": "code",
      "execution_count": 1,
      "metadata": {
        "colab": {
          "base_uri": "https://localhost:8080/"
        },
        "id": "kSV9E1wo6MLj",
        "outputId": "b3ce1096-2fcb-4ed4-ba2a-dcb86790e647"
      },
      "outputs": [
        {
          "output_type": "stream",
          "name": "stdout",
          "text": [
            "Welcome to skill Morph!\n"
          ]
        }
      ],
      "source": [
        "print(\"Welcome to skill Morph!\")"
      ]
    },
    {
      "cell_type": "code",
      "source": [
        "23+45\n"
      ],
      "metadata": {
        "colab": {
          "base_uri": "https://localhost:8080/"
        },
        "id": "94Dp_lXX6_GX",
        "outputId": "17e8c2df-aae3-486a-965b-dceb369af23f"
      },
      "execution_count": 2,
      "outputs": [
        {
          "output_type": "execute_result",
          "data": {
            "text/plain": [
              "68"
            ]
          },
          "metadata": {},
          "execution_count": 2
        }
      ]
    },
    {
      "cell_type": "markdown",
      "source": [
        "# **Chapter 1**"
      ],
      "metadata": {
        "id": "OgTkcvlL7CmX"
      }
    },
    {
      "cell_type": "markdown",
      "source": [
        "## **Sub Chapter 1**"
      ],
      "metadata": {
        "id": "wXnyGvol7F6H"
      }
    }
  ]
}