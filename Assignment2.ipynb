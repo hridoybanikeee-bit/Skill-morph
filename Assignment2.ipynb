{
  "nbformat": 4,
  "nbformat_minor": 0,
  "metadata": {
    "colab": {
      "provenance": []
    },
    "kernelspec": {
      "name": "python3",
      "display_name": "Python 3"
    },
    "language_info": {
      "name": "python"
    }
  },
  "cells": [
    {
      "cell_type": "markdown",
      "source": [
        "2.1 Create variables for your name, age, and favorite color, then print them with descriptive labels"
      ],
      "metadata": {
        "id": "kQJ3HKxOx0lV"
      }
    },
    {
      "cell_type": "code",
      "execution_count": null,
      "metadata": {
        "colab": {
          "base_uri": "https://localhost:8080/"
        },
        "id": "qtle3QpCxx7U",
        "outputId": "5476ad63-0b9a-4c5e-e0c1-5832b682d7e7"
      },
      "outputs": [
        {
          "output_type": "stream",
          "name": "stdout",
          "text": [
            "Name: Hridoy Banik Akash\n",
            "Age: 25\n",
            "Favourite Color: Green\n"
          ]
        }
      ],
      "source": [
        "name = \"Hridoy Banik Akash\"\n",
        "age = 25\n",
        "favourite_color= \"Green\"\n",
        "print(f\"Name: {name}\")\n",
        "print(f\"Age: {age}\")\n",
        "print(f\"Favourite Color: {favourite_color}\")"
      ]
    },
    {
      "cell_type": "markdown",
      "source": [
        "2.2.Create one variable of each type and use the type() function to verify its type"
      ],
      "metadata": {
        "id": "5VCbJIuUyXNp"
      }
    },
    {
      "cell_type": "code",
      "source": [
        "integer = 5\n",
        "float_num = 5.25\n",
        "string = \"Hridoy\"\n",
        "boolean = True\n",
        "value = None\n",
        "\n",
        "print(type(integer))\n",
        "print(type(float_num))\n",
        "print(type(string))\n",
        "print(type(boolean))\n",
        "print(type(value))"
      ],
      "metadata": {
        "colab": {
          "base_uri": "https://localhost:8080/"
        },
        "id": "r4yYKS_LyX8V",
        "outputId": "7e3e1593-3d6a-4047-c761-731ffaf62224"
      },
      "execution_count": null,
      "outputs": [
        {
          "output_type": "stream",
          "name": "stdout",
          "text": [
            "<class 'int'>\n",
            "<class 'float'>\n",
            "<class 'str'>\n",
            "<class 'bool'>\n",
            "<class 'NoneType'>\n"
          ]
        }
      ]
    },
    {
      "cell_type": "markdown",
      "source": [
        "2.3 Calculate the area and perimeter of a rectangle with length 10 and width 8"
      ],
      "metadata": {
        "id": "D6ZPaT13y5_w"
      }
    },
    {
      "cell_type": "code",
      "source": [
        "length = float(input(\"Enter the length: \"))\n",
        "width = float(input(\"Enter the width: \"))\n",
        "\n",
        "#area and perimeter calculation\n",
        "area = length * width\n",
        "perimeter = 2*(length + width)\n",
        "\n",
        "#print the result\n",
        "print(f\"The area of the rectange is {area}\")\n",
        "print(f\"The perimeter of the rectangle is {perimeter}\")"
      ],
      "metadata": {
        "colab": {
          "base_uri": "https://localhost:8080/"
        },
        "id": "S_1bKzKdy5xe",
        "outputId": "e5cd710c-f365-4b28-ae17-ef36c84d3a1b"
      },
      "execution_count": null,
      "outputs": [
        {
          "output_type": "stream",
          "name": "stdout",
          "text": [
            "Enter the length: 10\n",
            "Enter the width: 8\n",
            "The area of the rectange is 80.0\n",
            "The perimeter of the rectangle is 36.0\n"
          ]
        }
      ]
    },
    {
      "cell_type": "markdown",
      "source": [
        "\n",
        "2.4.Create a list of 5 Bangladeshi foods, then access the first and last elements."
      ],
      "metadata": {
        "id": "0xoFXslf0MFn"
      }
    },
    {
      "cell_type": "code",
      "source": [
        "food_list = [\"biriyani\",\"butter chicken\",\"Kacchi\",\"polao\",\"Curd\",\"sweets\"]\n",
        "length = len(food_list)\n",
        "print(food_list[0])\n",
        "print(food_list[length-1])"
      ],
      "metadata": {
        "colab": {
          "base_uri": "https://localhost:8080/"
        },
        "id": "Gu-LuG_60QEz",
        "outputId": "2d64a089-f258-4316-f6d8-bb414f8badf0"
      },
      "execution_count": null,
      "outputs": [
        {
          "output_type": "stream",
          "name": "stdout",
          "text": [
            "biriyani\n",
            "sweets\n"
          ]
        }
      ]
    },
    {
      "cell_type": "markdown",
      "source": [
        "\n",
        "2.5 Create a list of 5 numbers, add a new number, remove one, and then sort the list."
      ],
      "metadata": {
        "id": "8VlDu4_r0nV8"
      }
    },
    {
      "cell_type": "code",
      "source": [
        "lists = [44,23,54,6,33]\n",
        "print(\"Before any operation\")\n",
        "print(lists)\n",
        "lists.append(34)\n",
        "print(\"After adding a new number\")\n",
        "print(lists)\n",
        "lists.remove(54)\n",
        "print(\"After remove operation\")\n",
        "print(lists)\n",
        "lists.sort()\n",
        "print(\"After sort\")\n",
        "print(lists)\n",
        "#if we wanted to sort this in reverse order\n",
        "lists.reverse()\n",
        "print(\"After reverse operation\")\n",
        "print(lists)"
      ],
      "metadata": {
        "colab": {
          "base_uri": "https://localhost:8080/"
        },
        "id": "mg3Arz9I0rRd",
        "outputId": "2d6edda5-da60-4ebe-f86b-23678e514917"
      },
      "execution_count": null,
      "outputs": [
        {
          "output_type": "stream",
          "name": "stdout",
          "text": [
            "Before any operation\n",
            "[44, 23, 54, 6, 33]\n",
            "After adding a new number\n",
            "[44, 23, 54, 6, 33, 34]\n",
            "After remove operation\n",
            "[44, 23, 6, 33, 34]\n",
            "After sort\n",
            "[6, 23, 33, 34, 44]\n",
            "After reverse operation\n",
            "[44, 34, 33, 23, 6]\n"
          ]
        }
      ]
    },
    {
      "cell_type": "markdown",
      "source": [
        "2.6 Create a dictionary about yourself with at least 4 key-value pairs"
      ],
      "metadata": {
        "id": "PaSgz8PT1iGS"
      }
    },
    {
      "cell_type": "code",
      "source": [
        "dictio = {\n",
        "    \"name\" : \"Hridoy Banik Akash\",\n",
        "    \"age\" : 25,\n",
        "    \"Occupation\" : \"Student\",\n",
        "    \"passion\" : \"Machine Learning\"\n",
        "}\n",
        "print(dictio)"
      ],
      "metadata": {
        "colab": {
          "base_uri": "https://localhost:8080/"
        },
        "id": "elmnhlxw1oxs",
        "outputId": "b11daa58-4e62-454b-d01e-f1dfb1b0cbd7"
      },
      "execution_count": null,
      "outputs": [
        {
          "output_type": "stream",
          "name": "stdout",
          "text": [
            "{'name': 'Hridoy Banik Akash', 'age': 25, 'Occupation': 'Student', 'passion': 'Machine Learning'}\n"
          ]
        }
      ]
    },
    {
      "cell_type": "markdown",
      "source": [
        "2.7 Create a tuple with the latitude and longitude of a famous place in Bangladesh."
      ],
      "metadata": {
        "id": "mQuIFWbazT4u"
      }
    },
    {
      "cell_type": "code",
      "source": [
        "lat = (\"22° 12' 0 N\",\"21.4272° N\")\n",
        "long = (\"92° 13' 0 E\",\"92.0061°E\")\n",
        "print(type(lat))\n",
        "print(type(long))"
      ],
      "metadata": {
        "colab": {
          "base_uri": "https://localhost:8080/"
        },
        "id": "BOgv7rE_zVQi",
        "outputId": "cd17293f-d4ba-4770-f983-a61b6f70e51b"
      },
      "execution_count": null,
      "outputs": [
        {
          "output_type": "stream",
          "name": "stdout",
          "text": [
            "<class 'tuple'>\n",
            "<class 'tuple'>\n"
          ]
        }
      ]
    },
    {
      "cell_type": "markdown",
      "source": [
        "\n",
        "2.8 Create two sets of colors and find their union and intersection"
      ],
      "metadata": {
        "id": "nfQdnCT-zQ1n"
      }
    },
    {
      "cell_type": "code",
      "source": [
        "color1 = {\"Red\",\"Green\",\"Blue\"}\n",
        "color2 = {\"Yellow\",\"Pink\",\"Black\"}\n",
        "print(color1 | color2)\n",
        "print(color1 & color2)"
      ],
      "metadata": {
        "colab": {
          "base_uri": "https://localhost:8080/"
        },
        "id": "1YllKE0jzNvF",
        "outputId": "5bf9e0f1-7789-48c0-c5d0-0764d7f30456"
      },
      "execution_count": null,
      "outputs": [
        {
          "output_type": "stream",
          "name": "stdout",
          "text": [
            "{'Green', 'Pink', 'Yellow', 'Blue', 'Red', 'Black'}\n",
            "set()\n"
          ]
        }
      ]
    },
    {
      "cell_type": "markdown",
      "source": [
        "Write a program that checks if a number is positive, negative, or zero"
      ],
      "metadata": {
        "id": "N-71okTY0hLR"
      }
    },
    {
      "cell_type": "code",
      "source": [
        "num = int(input(\"Enter the number: \"))\n",
        "if num == 0:\n",
        "  print(f\"The num is Zero\")\n",
        "elif num<0:\n",
        "  print(\"The num negative\")\n",
        "else:\n",
        "  print(\"The num is positive\")"
      ],
      "metadata": {
        "colab": {
          "base_uri": "https://localhost:8080/"
        },
        "id": "Cj7HmO7F0Yef",
        "outputId": "5bcf2f74-7450-4b2e-ee4f-15718c25120d"
      },
      "execution_count": null,
      "outputs": [
        {
          "output_type": "stream",
          "name": "stdout",
          "text": [
            "Enter the number: 0\n",
            "The num is Zero\n"
          ]
        }
      ]
    },
    {
      "cell_type": "markdown",
      "source": [
        "Write a program that checks eligibility for a discount (student AND under 25, OR senior over 60)"
      ],
      "metadata": {
        "id": "mi_Xvq2201xa"
      }
    },
    {
      "cell_type": "code",
      "source": [
        "status = int(input(\"\"\"\n",
        "Mention your status:\n",
        "If you're a student : press 1,\n",
        "If you're not a student : press 2\n",
        "\"\"\"))\n",
        "if status == 1:\n",
        "  print(\"Student Discount Applied\")\n",
        "elif status == 2:\n",
        "  status2 = int(input(\"\"\"\n",
        "  What's your age?\n",
        "  Press 1 if you are under or equal to 25\n",
        "  press 2 if you are bigger than 25 and less than 60\n",
        "  Press 3 if you are bigger than 60\n",
        "  \"\"\"))\n",
        "  if status2 == 1:\n",
        "    print(\"Junior Discount applied\")\n",
        "  elif status2 == 2:\n",
        "    print(\"Sorry! No discount applied\")\n",
        "  elif status == 3:\n",
        "    print(\"Senior Discount applied\")\n",
        "  else:\n",
        "    print(\"You've pressed wrong button; Press again\")\n",
        "else:\n",
        "  print(\"You've pressed wrong button; Press again\")"
      ],
      "metadata": {
        "colab": {
          "base_uri": "https://localhost:8080/"
        },
        "id": "0GJFEt5dsdUg",
        "outputId": "6a64fd2f-ba2e-4fa1-a37b-bd766c4c4ab4"
      },
      "execution_count": 2,
      "outputs": [
        {
          "output_type": "stream",
          "name": "stdout",
          "text": [
            "\n",
            "Mention your status:\n",
            "If you're a student : press 1,\n",
            "If you're not a student : press 2\n",
            "2\n",
            "\n",
            "  What's your age?\n",
            "  Press 1 if you are under or equal to 25\n",
            "  press 2 if you are bigger than 25 and less than 60\n",
            "  Press 3 if you are bigger than 60\n",
            "  2\n",
            "Sorry! No discount applied\n"
          ]
        }
      ]
    },
    {
      "cell_type": "markdown",
      "source": [
        "Write a program that prints the first 10 even numbers using a for or while loop"
      ],
      "metadata": {
        "id": "1xlIX9Wtt22O"
      }
    },
    {
      "cell_type": "code",
      "source": [
        "count = 0\n",
        "for i in range(100):\n",
        "  if i % 2 == 0:\n",
        "    count += 1\n",
        "    print(i)\n",
        "  if count > 9:\n",
        "    break"
      ],
      "metadata": {
        "colab": {
          "base_uri": "https://localhost:8080/"
        },
        "id": "crjgoyL1t5uw",
        "outputId": "6b364df1-387f-421c-d57f-c4e8ec936406"
      },
      "execution_count": 10,
      "outputs": [
        {
          "output_type": "stream",
          "name": "stdout",
          "text": [
            "0\n",
            "2\n",
            "4\n",
            "6\n",
            "8\n",
            "10\n",
            "12\n",
            "14\n",
            "16\n",
            "18\n"
          ]
        }
      ]
    },
    {
      "cell_type": "markdown",
      "source": [
        "Write a program that prints a simple number pyramid pattern using nested loops."
      ],
      "metadata": {
        "id": "nda2hbeIwZSF"
      }
    },
    {
      "cell_type": "code",
      "source": [
        "rows = 5\n",
        "for i in range(1, rows + 1):\n",
        "    for space in range(rows - i):\n",
        "        print(\" \", end=\"\")\n",
        "    for num in range(1, i + 1):\n",
        "        print(num, end=\" \")\n",
        "\n",
        "    print()"
      ],
      "metadata": {
        "colab": {
          "base_uri": "https://localhost:8080/"
        },
        "id": "Fmjxay1Mwa_s",
        "outputId": "5f3d272a-0c9f-43b5-b975-fa983ff8dc45"
      },
      "execution_count": 11,
      "outputs": [
        {
          "output_type": "stream",
          "name": "stdout",
          "text": [
            "    1 \n",
            "   1 2 \n",
            "  1 2 3 \n",
            " 1 2 3 4 \n",
            "1 2 3 4 5 \n"
          ]
        }
      ]
    },
    {
      "cell_type": "markdown",
      "source": [
        " Create a function that converts temperature from Celsius to Fahrenheit using the formula: F = (C × 9/5) + 32"
      ],
      "metadata": {
        "id": "zUa2bRsqwiRe"
      }
    },
    {
      "cell_type": "code",
      "source": [
        "\n",
        "c=float(input(\"Enter the value of Celcius: \"))\n",
        "f=(c*(9/5)+32)\n",
        "print(\"Fahrenheit\",f)"
      ],
      "metadata": {
        "colab": {
          "base_uri": "https://localhost:8080/"
        },
        "id": "oK04S_GNwfBj",
        "outputId": "be25b009-71d9-4eda-9af8-8b3b33c4c21f"
      },
      "execution_count": 12,
      "outputs": [
        {
          "output_type": "stream",
          "name": "stdout",
          "text": [
            "Enter the value of Celcius: 45\n",
            "Fahrenheit 113.0\n"
          ]
        }
      ]
    },
    {
      "cell_type": "markdown",
      "source": [
        "Create a function with default parameters that calculates the area of a rectangle."
      ],
      "metadata": {
        "id": "PCj0EI2pwneE"
      }
    },
    {
      "cell_type": "code",
      "source": [
        "\n",
        "def rectangle_area(length=1, width=1):\n",
        "    area = length * width\n",
        "    return area\n",
        "\n",
        "print(rectangle_area())\n",
        "print(rectangle_area(5))\n",
        "print(rectangle_area(5, 3))"
      ],
      "metadata": {
        "id": "XJJH5garwqEw",
        "outputId": "582a0ad0-3052-477f-9530-20982be342dc",
        "colab": {
          "base_uri": "https://localhost:8080/"
        }
      },
      "execution_count": 13,
      "outputs": [
        {
          "output_type": "stream",
          "name": "stdout",
          "text": [
            "1\n",
            "5\n",
            "15\n"
          ]
        }
      ]
    }
  ]
}